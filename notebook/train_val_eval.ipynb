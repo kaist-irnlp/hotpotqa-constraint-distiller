{
 "cells": [
  {
   "cell_type": "code",
   "execution_count": 1,
   "metadata": {},
   "outputs": [],
   "source": [
    "import zarr\n",
    "import numpy as np\n",
    "from pathlib import Path\n",
    "import pandas as pd\n",
    "import numcodecs"
   ]
  },
  {
   "cell_type": "code",
   "execution_count": 2,
   "metadata": {},
   "outputs": [],
   "source": [
    "data_dir = Path('../msmarco-passages/')\n",
    "\n",
    "def get_index(target, source):\n",
    "    sorter = np.argsort(source)\n",
    "    return sorter[np.searchsorted(source, target, sorter=sorter)]"
   ]
  },
  {
   "cell_type": "code",
   "execution_count": 3,
   "metadata": {},
   "outputs": [],
   "source": [
    "doc = zarr.open(str(data_dir / \"docs.all.zarr\"))\n",
    "query = zarr.open(str(data_dir / 'queries.all.zarr'))"
   ]
  },
  {
   "cell_type": "markdown",
   "metadata": {},
   "source": [
    "# Eval (run)"
   ]
  },
  {
   "cell_type": "code",
   "execution_count": 63,
   "metadata": {},
   "outputs": [],
   "source": [
    "df = pd.read_csv(data_dir / 'runs' / 'run.msmarco-passage.dev.small.tsv', names=['q_id', 'doc_id', \"rank\"], sep='\\t')\n",
    "q_ids = df.q_id.unique()\n",
    "doc_ids = df.doc_id.unique()"
   ]
  },
  {
   "cell_type": "markdown",
   "metadata": {},
   "source": [
    "## Query"
   ]
  },
  {
   "cell_type": "code",
   "execution_count": 76,
   "metadata": {},
   "outputs": [],
   "source": [
    "q_idx = get_index(q_ids, query.id)"
   ]
  },
  {
   "cell_type": "code",
   "execution_count": 79,
   "metadata": {},
   "outputs": [
    {
     "data": {
      "text/plain": [
       "<zarr.core.Array '/text' (6980,) object>"
      ]
     },
     "execution_count": 79,
     "metadata": {},
     "output_type": "execute_result"
    }
   ],
   "source": [
    "z = zarr.open(\"queries.eval.zarr\", mode=\"w\")\n",
    "z.array(\"id\", data=query.id.oindex[q_idx], chunks=(256), overwrite=True)\n",
    "z.array(\"text\", data=query.text.oindex[q_idx], chunks=(256), object_codec=numcodecs.VLenUTF8(), overwrite=True)"
   ]
  },
  {
   "cell_type": "markdown",
   "metadata": {},
   "source": [
    "## Passage"
   ]
  },
  {
   "cell_type": "code",
   "execution_count": 77,
   "metadata": {},
   "outputs": [],
   "source": [
    "doc_idx = get_index(doc_ids, doc.id)"
   ]
  },
  {
   "cell_type": "code",
   "execution_count": 78,
   "metadata": {},
   "outputs": [
    {
     "data": {
      "text/plain": [
       "<zarr.core.Array '/text' (3823977,) object>"
      ]
     },
     "execution_count": 78,
     "metadata": {},
     "output_type": "execute_result"
    }
   ],
   "source": [
    "z = zarr.open(\"docs.eval.zarr\", mode=\"w\")\n",
    "z.array(\"id\", data=doc.id.oindex[doc_idx], chunks=(256), overwrite=True)\n",
    "z.array(\"text\", data=doc.text.oindex[doc_idx], chunks=(256), object_codec=numcodecs.VLenUTF8(), overwrite=True)"
   ]
  },
  {
   "cell_type": "markdown",
   "metadata": {},
   "source": [
    "---"
   ]
  },
  {
   "cell_type": "markdown",
   "metadata": {},
   "source": [
    "# Passage"
   ]
  },
  {
   "cell_type": "code",
   "execution_count": 19,
   "metadata": {},
   "outputs": [],
   "source": [
    "train_ids = np.unique(zarr.open(str(data_dir / 'triples.train.zarr/'))[:, 1:].flatten())\n",
    "train_ids = sorted(list(set(train_ids)))\n",
    "val_ids = np.unique(zarr.open(str(data_dir / 'triples.val.zarr/'))[:, 1:].flatten())\n",
    "val_ids = sorted(list(set(val_ids)))"
   ]
  },
  {
   "cell_type": "code",
   "execution_count": 20,
   "metadata": {},
   "outputs": [],
   "source": [
    "train_idx = get_index(train_ids, doc.id)\n",
    "val_idx = get_index(val_ids, doc.id)"
   ]
  },
  {
   "cell_type": "code",
   "execution_count": 21,
   "metadata": {},
   "outputs": [
    {
     "data": {
      "text/plain": [
       "(1171509, 393267)"
      ]
     },
     "execution_count": 21,
     "metadata": {},
     "output_type": "execute_result"
    }
   ],
   "source": [
    "len(train_idx), len(val_idx)"
   ]
  },
  {
   "cell_type": "markdown",
   "metadata": {},
   "source": [
    "## Save"
   ]
  },
  {
   "cell_type": "code",
   "execution_count": 22,
   "metadata": {},
   "outputs": [
    {
     "data": {
      "text/plain": [
       "<zarr.core.Array '/text' (1171509,) object>"
      ]
     },
     "execution_count": 22,
     "metadata": {},
     "output_type": "execute_result"
    }
   ],
   "source": [
    "indices = train_idx\n",
    "z = zarr.open(\"docs.train.zarr\", mode=\"w\")\n",
    "z.array(\"id\", data=doc.id.oindex[indices], chunks=(256), overwrite=True)\n",
    "z.array(\"text\", data=doc.text.oindex[indices], chunks=(256), object_codec=numcodecs.VLenUTF8(), overwrite=True)"
   ]
  },
  {
   "cell_type": "code",
   "execution_count": 23,
   "metadata": {},
   "outputs": [
    {
     "data": {
      "text/plain": [
       "<zarr.core.Array '/text' (393267,) object>"
      ]
     },
     "execution_count": 23,
     "metadata": {},
     "output_type": "execute_result"
    }
   ],
   "source": [
    "indices = val_idx\n",
    "z_train = zarr.open(\"docs.val.zarr\", mode=\"w\")\n",
    "z_train.array(\"id\", data=doc.id.oindex[indices], chunks=(256), overwrite=True)\n",
    "z_train.array(\"text\", data=doc.text.oindex[indices], chunks=(256), object_codec=numcodecs.VLenUTF8(), overwrite=True)"
   ]
  },
  {
   "cell_type": "markdown",
   "metadata": {},
   "source": [
    "# Query"
   ]
  },
  {
   "cell_type": "code",
   "execution_count": 11,
   "metadata": {},
   "outputs": [],
   "source": [
    "train_ids = zarr.open(str(data_dir / 'triples.train.zarr/'))[:, 0]\n",
    "train_ids = sorted(list(set(train_ids)))\n",
    "val_ids = zarr.open(str(data_dir / 'triples.val.zarr/'))[:, 0]\n",
    "val_ids = sorted(list(set(val_ids)))"
   ]
  },
  {
   "cell_type": "code",
   "execution_count": 14,
   "metadata": {},
   "outputs": [],
   "source": [
    "train_idx = get_index(train_ids, query.id)\n",
    "val_idx = get_index(val_ids, query.id)"
   ]
  },
  {
   "cell_type": "markdown",
   "metadata": {},
   "source": [
    "## Save"
   ]
  },
  {
   "cell_type": "code",
   "execution_count": 17,
   "metadata": {},
   "outputs": [
    {
     "data": {
      "text/plain": [
       "<zarr.core.Array '/text' (1512,) object>"
      ]
     },
     "execution_count": 17,
     "metadata": {},
     "output_type": "execute_result"
    }
   ],
   "source": [
    "z = zarr.open(\"queries.train.zarr\", mode=\"w\")\n",
    "z.array(\"id\", data=query.id.oindex[train_idx], chunks=(256), overwrite=True)\n",
    "z.array(\"text\", data=query.text.oindex[train_idx], chunks=(256), object_codec=numcodecs.VLenUTF8(), overwrite=True)"
   ]
  },
  {
   "cell_type": "code",
   "execution_count": 18,
   "metadata": {},
   "outputs": [
    {
     "data": {
      "text/plain": [
       "<zarr.core.Array '/text' (1512,) object>"
      ]
     },
     "execution_count": 18,
     "metadata": {},
     "output_type": "execute_result"
    }
   ],
   "source": [
    "z = zarr.open(\"queries.val.zarr\", mode=\"w\")\n",
    "z.array(\"id\", data=query.id.oindex[val_idx], chunks=(256), overwrite=True)\n",
    "z.array(\"text\", data=query.text.oindex[val_idx], chunks=(256), object_codec=numcodecs.VLenUTF8(), overwrite=True)"
   ]
  }
 ],
 "metadata": {
  "kernelspec": {
   "display_name": "Python 3",
   "language": "python",
   "name": "python3"
  },
  "language_info": {
   "codemirror_mode": {
    "name": "ipython",
    "version": 3
   },
   "file_extension": ".py",
   "mimetype": "text/x-python",
   "name": "python",
   "nbconvert_exporter": "python",
   "pygments_lexer": "ipython3",
   "version": "3.7.6"
  }
 },
 "nbformat": 4,
 "nbformat_minor": 4
}
