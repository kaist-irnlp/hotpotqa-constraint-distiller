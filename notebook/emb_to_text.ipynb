{
 "cells": [
  {
   "cell_type": "code",
   "execution_count": 1,
   "metadata": {},
   "outputs": [],
   "source": [
    "from pathlib import Path\n",
    "import zarr\n",
    "from tqdm import tqdm\n",
    "import gc\n",
    "import gzip"
   ]
  },
  {
   "cell_type": "code",
   "execution_count": 2,
   "metadata": {},
   "outputs": [],
   "source": [
    "data_dir = Path(\"D:/Data/msmarco-passages\")"
   ]
  },
  {
   "cell_type": "code",
   "execution_count": 3,
   "metadata": {},
   "outputs": [],
   "source": [
    "def to_text(zarr_path, emb_path=\"dense/fse\"):\n",
    "    zarr_path = Path(zarr_path)\n",
    "    z = zarr.open(str(zarr_path))\n",
    "    ids = z.id[:]\n",
    "#     texts = z.text\n",
    "    embs = z[emb_path][:]\n",
    "    # write\n",
    "    in_name = zarr_path.name\n",
    "    emb_name = emb_path.split(\"/\")[1]\n",
    "    out_path = str(zarr_path.parent / f\"{in_name}.{emb_name}.txt\")\n",
    "    with open(out_path, \"w\", encoding=\"utf-8\") as f:\n",
    "        nrows, ndim = embs.shape\n",
    "        f.write(f\"{nrows} {ndim}\\n\")\n",
    "        for i in tqdm(range(nrows)):\n",
    "            tid, emb = ids[i], embs[i]\n",
    "            line = f\"{tid} {' '.join([str(d) for d in emb])}\"\n",
    "            f.write(line + '\\n')\n",
    "    del ids, embs; gc.collect()"
   ]
  },
  {
   "cell_type": "code",
   "execution_count": 4,
   "metadata": {},
   "outputs": [
    {
     "name": "stderr",
     "output_type": "stream",
     "text": [
      "100%|██████████████████████████████████████████████████████████████████████| 3823977/3823977 [15:45<00:00, 4046.43it/s]\n"
     ]
    }
   ],
   "source": [
    "to_text(data_dir / \"docs.eval.zarr\")"
   ]
  },
  {
   "cell_type": "code",
   "execution_count": 5,
   "metadata": {},
   "outputs": [
    {
     "name": "stderr",
     "output_type": "stream",
     "text": [
      "100%|████████████████████████████████████████████████████████████████████████████| 6980/6980 [00:01<00:00, 4045.24it/s]\n"
     ]
    }
   ],
   "source": [
    "to_text(data_dir / \"queries.eval.zarr\")"
   ]
  }
 ],
 "metadata": {
  "kernelspec": {
   "display_name": "Python 3",
   "language": "python",
   "name": "python3"
  },
  "language_info": {
   "codemirror_mode": {
    "name": "ipython",
    "version": 3
   },
   "file_extension": ".py",
   "mimetype": "text/x-python",
   "name": "python",
   "nbconvert_exporter": "python",
   "pygments_lexer": "ipython3",
   "version": "3.7.6"
  }
 },
 "nbformat": 4,
 "nbformat_minor": 4
}
