{
 "cells": [
  {
   "cell_type": "code",
   "execution_count": 20,
   "metadata": {},
   "outputs": [
    {
     "name": "stderr",
     "output_type": "stream",
     "text": [
      "WARNING: Instantiating Session without specifying a backend is deprecated and will be removed in future versions. For current behaviour use `neptune.init(...)` or `Session.with_default_backend(...)\n"
     ]
    }
   ],
   "source": [
    "import neptune\n",
    "from neptune.sessions import Session\n",
    "from pathlib import Path\n",
    "import json\n",
    "import zipfile\n",
    "from tqdm import tqdm\n",
    "import yaml\n",
    "from pprint import pprint\n",
    "\n",
    "PROJECT = \"kjang0517/msmarco\"\n",
    "\n",
    "session = Session()\n",
    "project = session.get_project(project_qualified_name=PROJECT)\n",
    "# neptune.init(project_qualified_name=\"kjang0517/msmarco\")\n",
    "# neptune.get_experiments()"
   ]
  },
  {
   "cell_type": "markdown",
   "metadata": {},
   "source": [
    "# 실험 기록 및 결과물 다운로드\n",
    "* `state == 'succeeded'`\n",
    "* `download_artifacts()`"
   ]
  },
  {
   "cell_type": "code",
   "execution_count": 2,
   "metadata": {
    "scrolled": true
   },
   "outputs": [
    {
     "name": "stderr",
     "output_type": "stream",
     "text": [
      "\r",
      "  0%|                                                                                           | 0/30 [00:00<?, ?it/s]"
     ]
    },
    {
     "name": "stdout",
     "output_type": "stream",
     "text": [
      "Skipping MSMAR-103\n",
      "Skipping MSMAR-106\n",
      "Skipping MSMAR-113\n",
      "Skipping MSMAR-116\n",
      "Skipping MSMAR-137\n",
      "Skipping MSMAR-138\n",
      "Skipping MSMAR-139\n",
      "Skipping MSMAR-141\n",
      "Skipping MSMAR-142\n",
      "Skipping MSMAR-166\n",
      "Skipping MSMAR-167\n",
      "Skipping MSMAR-170\n",
      "Skipping MSMAR-176\n",
      "Skipping MSMAR-177\n",
      "Skipping MSMAR-178\n",
      "Skipping MSMAR-179\n",
      "Skipping MSMAR-180\n",
      "Skipping MSMAR-181\n",
      "Skipping MSMAR-182\n",
      "Skipping MSMAR-183\n",
      "Skipping MSMAR-184\n",
      "Skipping MSMAR-186\n",
      "Skipping MSMAR-187\n",
      "Skipping MSMAR-188\n",
      "Fetching MSMAR-189\n"
     ]
    },
    {
     "name": "stderr",
     "output_type": "stream",
     "text": [
      "\r",
      " 83%|████████████████████████████████████████████████████████████████████▎             | 25/30 [00:18<00:03,  1.37it/s]"
     ]
    },
    {
     "name": "stdout",
     "output_type": "stream",
     "text": [
      "Skipping MSMAR-191\n",
      "Fetching MSMAR-192\n"
     ]
    },
    {
     "name": "stderr",
     "output_type": "stream",
     "text": [
      "\r",
      " 90%|█████████████████████████████████████████████████████████████████████████▊        | 27/30 [01:03<00:22,  7.37s/it]"
     ]
    },
    {
     "name": "stdout",
     "output_type": "stream",
     "text": [
      "Fetching MSMAR-193\n"
     ]
    },
    {
     "name": "stderr",
     "output_type": "stream",
     "text": [
      "\r",
      " 93%|████████████████████████████████████████████████████████████████████████████▌     | 28/30 [01:46<00:35, 17.93s/it]"
     ]
    },
    {
     "name": "stdout",
     "output_type": "stream",
     "text": [
      "Fetching MSMAR-194\n"
     ]
    },
    {
     "name": "stderr",
     "output_type": "stream",
     "text": [
      "\r",
      " 97%|███████████████████████████████████████████████████████████████████████████████▎  | 29/30 [02:01<00:16, 16.92s/it]"
     ]
    },
    {
     "name": "stdout",
     "output_type": "stream",
     "text": [
      "Fetching MSMAR-195\n"
     ]
    },
    {
     "name": "stderr",
     "output_type": "stream",
     "text": [
      "100%|██████████████████████████████████████████████████████████████████████████████████| 30/30 [02:20<00:00,  4.69s/it]\n"
     ]
    }
   ],
   "source": [
    "base_dir = Path(\"experiments\")\n",
    "if not base_dir.exists():\n",
    "    base_dir.mkdir(parents=True)\n",
    "\n",
    "target_exps = [exp for exp in project.get_experiments() if exp.state == \"succeeded\"]\n",
    "for exp in tqdm(target_exps):\n",
    "    destination_dir = base_dir / exp.id\n",
    "    # check already exist\n",
    "    if destination_dir.exists():\n",
    "        print(\"Skipping\", exp.id)\n",
    "        continue\n",
    "    else:\n",
    "        destination_dir.mkdir(parents=True)\n",
    "        \n",
    "    # start fetching\n",
    "    print(\"Fetching\", exp.id)\n",
    "        \n",
    "    # parameters\n",
    "    params = exp.get_parameters()\n",
    "    with (destination_dir / \"parameters.json\").open(\"w\", encoding=\"utf-8\") as f:\n",
    "        json.dump(params, f, indent=4)\n",
    "\n",
    "    # channels\n",
    "    channel_names = list(exp.get_channels().keys())\n",
    "    channel_df = exp.get_numeric_channels_values(*channel_names)\n",
    "    channel_df.to_csv(destination_dir / \"channels.csv\")\n",
    "\n",
    "    # artifacts\n",
    "    exp.download_artifacts(destination_dir=str(destination_dir))"
   ]
  },
  {
   "cell_type": "markdown",
   "metadata": {},
   "source": [
    "# Unzip Artifacts"
   ]
  },
  {
   "cell_type": "code",
   "execution_count": 4,
   "metadata": {},
   "outputs": [],
   "source": [
    "zip_files = list(base_dir.glob(\"**/*.zip\"))\n",
    "for zpath in zip_files:\n",
    "    print(\"Processing\", zpath)\n",
    "    with zipfile.ZipFile(zpath) as zf:\n",
    "        zf.extractall(path=zpath.parent)\n",
    "    zpath.unlink()"
   ]
  },
  {
   "cell_type": "markdown",
   "metadata": {},
   "source": [
    "# Inspect Model Properties"
   ]
  },
  {
   "cell_type": "code",
   "execution_count": 36,
   "metadata": {},
   "outputs": [],
   "source": [
    "def get_model_properties(hparams_path):\n",
    "    with open(hparams_path, encoding=\"utf-8\") as f:\n",
    "        hparams = yaml.load(f, yaml.SafeLoader)\n",
    "\n",
    "    # properties\n",
    "    properties = []\n",
    "    ## base_emb\n",
    "    properties.append(hparams[\"dataset\"][\"emb_path\"].split(\"/\")[1])\n",
    "    ## base_emb_dim\n",
    "    properties.append(hparams[\"model\"][\"input_size\"])\n",
    "    ## model_name\n",
    "    properties.append(hparams[\"model\"][\"name\"])\n",
    "    ## model_arch\n",
    "    properties.append(\n",
    "        f\"{'_'.join([str(v) for v in hparams['model']['n']])}_{'_'.join((str(v) for v in hparams['model']['k']))}\"\n",
    "    )\n",
    "    ## losses\n",
    "    losses = []\n",
    "    if hparams[\"loss\"][\"use_recovery_loss\"]:\n",
    "        losses.append(\"recover\")\n",
    "    if hparams[\"loss\"][\"use_task_loss\"]:\n",
    "        losses.append(\"task\")\n",
    "    properties.append(\"-\".join(losses))\n",
    "    ## bs & lr\n",
    "    properties.append(hparams[\"train\"][\"batch_size\"])\n",
    "    properties.append(hparams[\"train\"][\"learning_rate\"])\n",
    "    # return as a single string\n",
    "    return \"_\".join([str(p) for p in properties])\n",
    "\n",
    "\n",
    "def filter_properties(hparams, conditions):\n",
    "    if not isinstance(conditions, list):\n",
    "        conditions = [conditions]\n",
    "    return {k: v for k, v in hparams.items() if all([(cond in v) for cond in conditions])}"
   ]
  },
  {
   "cell_type": "code",
   "execution_count": 46,
   "metadata": {},
   "outputs": [],
   "source": [
    "hparams = {}\n",
    "hparam_files = list(base_dir.glob(\"**/*.yaml\"))\n",
    "for f in hparam_files:\n",
    "    exp_id = [p for p in f.parts if \"MSMAR-\" in p][0]\n",
    "    properties = get_model_properties(f)\n",
    "    if exp_id not in hparams:\n",
    "        hparams[exp_id] = properties\n",
    "hparams = {k: v for k, v in sorted(hparams.items(), key=lambda item: item[1])}"
   ]
  },
  {
   "cell_type": "markdown",
   "metadata": {},
   "source": [
    "## bert"
   ]
  },
  {
   "cell_type": "code",
   "execution_count": 57,
   "metadata": {},
   "outputs": [
    {
     "data": {
      "text/plain": [
       "{'MSMAR-103': 'bert_768_wta_2048_0.02_recover-task_8192_0.0005',\n",
       " 'MSMAR-106': 'bert_768_wta_4096_0.02_recover-task_8192_0.0005',\n",
       " 'MSMAR-116': 'bert_768_wta_8192_0.02_recover-task_8192_0.0005'}"
      ]
     },
     "execution_count": 57,
     "metadata": {},
     "output_type": "execute_result"
    }
   ],
   "source": [
    "filter_properties(hparams, ['bert', 'recover-task'])"
   ]
  },
  {
   "cell_type": "markdown",
   "metadata": {},
   "source": [
    "## WTA"
   ]
  },
  {
   "cell_type": "code",
   "execution_count": 55,
   "metadata": {
    "scrolled": false
   },
   "outputs": [
    {
     "data": {
      "text/plain": [
       "{'MSMAR-103': 'bert_768_wta_2048_0.02_recover-task_8192_0.0005',\n",
       " 'MSMAR-106': 'bert_768_wta_4096_0.02_recover-task_8192_0.0005',\n",
       " 'MSMAR-116': 'bert_768_wta_8192_0.02_recover-task_8192_0.0005',\n",
       " 'MSMAR-137': 'fse_300_wta_2048_0.02_recover-task_8192_0.0005',\n",
       " 'MSMAR-142': 'fse_300_wta_2048_0.05_recover-task_8192_0.0001',\n",
       " 'MSMAR-138': 'fse_300_wta_4096_0.02_recover-task_8192_0.0005',\n",
       " 'MSMAR-141': 'fse_300_wta_4096_0.05_recover-task_8192_0.0001',\n",
       " 'MSMAR-139': 'fse_300_wta_8192_0.02_recover-task_8192_0.0005',\n",
       " 'MSMAR-180': 'fse_300_wta_8192_0.02_recover-task_8192_0.0005',\n",
       " 'MSMAR-170': 'fse_300_wta_8192_0.05_recover-task_8192_0.0001',\n",
       " 'MSMAR-177': 'fse_300_wta_8192_0.05_recover-task_8192_0.0001'}"
      ]
     },
     "execution_count": 55,
     "metadata": {},
     "output_type": "execute_result"
    }
   ],
   "source": [
    "filter_properties(hparams, ['wta', 'recover-task'])"
   ]
  },
  {
   "cell_type": "markdown",
   "metadata": {},
   "source": [
    "## SparseNet"
   ]
  },
  {
   "cell_type": "code",
   "execution_count": 51,
   "metadata": {},
   "outputs": [
    {
     "data": {
      "text/plain": [
       "{'MSMAR-189': 'fse_300_sparsenet_2048_40_recover-task_8192_0.0005'}"
      ]
     },
     "execution_count": 51,
     "metadata": {},
     "output_type": "execute_result"
    }
   ],
   "source": [
    "filter_properties(hparams, 'sparsenet')"
   ]
  },
  {
   "cell_type": "markdown",
   "metadata": {},
   "source": [
    "## recover"
   ]
  },
  {
   "cell_type": "code",
   "execution_count": 48,
   "metadata": {},
   "outputs": [
    {
     "data": {
      "text/plain": [
       "{'MSMAR-167': 'bert_768_wta_2048_0.02_recover_8192_0.0005',\n",
       " 'MSMAR-183': 'bert_768_wta_2048_0.05_recover_8192_0.0005',\n",
       " 'MSMAR-188': 'bert_768_wta_4096_0.02_recover_8192_0.0005',\n",
       " 'MSMAR-195': 'bert_768_wta_4096_0.05_recover_8192_0.0005',\n",
       " 'MSMAR-166': 'fse_300_wta_2048_0.02_recover_8192_0.0005',\n",
       " 'MSMAR-181': 'fse_300_wta_2048_0.05_recover_8192_0.0005',\n",
       " 'MSMAR-184': 'fse_300_wta_4096_0.02_recover_8192_0.0005',\n",
       " 'MSMAR-191': 'fse_300_wta_4096_0.05_recover_8192_0.0005',\n",
       " 'MSMAR-194': 'fse_300_wta_8192_0.02_recover_8192_0.0005'}"
      ]
     },
     "execution_count": 48,
     "metadata": {},
     "output_type": "execute_result"
    }
   ],
   "source": [
    "filter_properties(hparams, 'recover_')"
   ]
  },
  {
   "cell_type": "markdown",
   "metadata": {},
   "source": [
    "## recover-task"
   ]
  },
  {
   "cell_type": "code",
   "execution_count": 34,
   "metadata": {},
   "outputs": [
    {
     "data": {
      "text/plain": [
       "{'MSMAR-103': 'bert_768_wta_2048_0.02_recover-task_8192_0.0005',\n",
       " 'MSMAR-106': 'bert_768_wta_4096_0.02_recover-task_8192_0.0005',\n",
       " 'MSMAR-113': 'bert_768_wta_8192_0.02_recover-task_8192_0.0005',\n",
       " 'MSMAR-116': 'bert_768_wta_8192_0.02_recover-task_8192_0.0005',\n",
       " 'MSMAR-189': 'fse_300_sparsenet_2048_40_recover-task_8192_0.0005',\n",
       " 'MSMAR-137': 'fse_300_wta_2048_0.02_recover-task_8192_0.0005',\n",
       " 'MSMAR-142': 'fse_300_wta_2048_0.05_recover-task_8192_0.0001',\n",
       " 'MSMAR-138': 'fse_300_wta_4096_0.02_recover-task_8192_0.0005',\n",
       " 'MSMAR-141': 'fse_300_wta_4096_0.05_recover-task_8192_0.0001',\n",
       " 'MSMAR-139': 'fse_300_wta_8192_0.02_recover-task_8192_0.0005',\n",
       " 'MSMAR-180': 'fse_300_wta_8192_0.02_recover-task_8192_0.0005',\n",
       " 'MSMAR-170': 'fse_300_wta_8192_0.05_recover-task_8192_0.0001',\n",
       " 'MSMAR-177': 'fse_300_wta_8192_0.05_recover-task_8192_0.0001'}"
      ]
     },
     "execution_count": 34,
     "metadata": {},
     "output_type": "execute_result"
    }
   ],
   "source": [
    "filter_properties(hparams, 'recover-task')"
   ]
  }
 ],
 "metadata": {
  "kernelspec": {
   "display_name": "Python 3",
   "language": "python",
   "name": "python3"
  },
  "language_info": {
   "codemirror_mode": {
    "name": "ipython",
    "version": 3
   },
   "file_extension": ".py",
   "mimetype": "text/x-python",
   "name": "python",
   "nbconvert_exporter": "python",
   "pygments_lexer": "ipython3",
   "version": "3.7.6"
  }
 },
 "nbformat": 4,
 "nbformat_minor": 4
}
