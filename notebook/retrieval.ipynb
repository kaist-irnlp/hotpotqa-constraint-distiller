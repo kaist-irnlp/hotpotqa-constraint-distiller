{
 "cells": [
  {
   "cell_type": "code",
   "execution_count": 1,
   "metadata": {},
   "outputs": [],
   "source": [
    "import pandas as pd\n",
    "import zarr\n",
    "from pathlib import Path\n",
    "try:\n",
    "    import cupy as np\n",
    "except:    \n",
    "    import numpy as np"
   ]
  },
  {
   "cell_type": "code",
   "execution_count": 2,
   "metadata": {},
   "outputs": [],
   "source": [
    "emb_path = \"dense/bert\"\n",
    "data_dir = Path(\"../msmarco-passages/\")"
   ]
  },
  {
   "cell_type": "markdown",
   "metadata": {},
   "source": [
    "# Query"
   ]
  },
  {
   "cell_type": "markdown",
   "metadata": {},
   "source": [
    "## Target IDs"
   ]
  },
  {
   "cell_type": "code",
   "execution_count": 3,
   "metadata": {},
   "outputs": [],
   "source": [
    "q_ids = pd.read_csv(\n",
    "    data_dir / \"runs/queries.dev.small.tsv\", sep=\"\\t\", names=[\"id\", \"query\"]\n",
    ").id.values"
   ]
  },
  {
   "cell_type": "markdown",
   "metadata": {},
   "source": [
    "## Target Embs"
   ]
  },
  {
   "cell_type": "code",
   "execution_count": 4,
   "metadata": {},
   "outputs": [],
   "source": [
    "z = zarr.open(str(data_dir / \"queries.eval.zarr\"))\n",
    "q_embs = z[emb_path][:]"
   ]
  },
  {
   "cell_type": "code",
   "execution_count": 5,
   "metadata": {},
   "outputs": [],
   "source": [
    "# z = zarr.open('../msmarco-passages/queries.eval.zarr')\n",
    "# q_ids_all = z.id[:]\n",
    "# sorter = np.argsort(q_ids_all)\n",
    "# indices = sorter[np.searchsorted(q_ids_all, q_ids, sorter=sorter)]\n",
    "# q_embs = z.dense[\"bert\"].oindex[indices.tolist(), :][:]"
   ]
  },
  {
   "cell_type": "markdown",
   "metadata": {},
   "source": [
    "# Passages"
   ]
  },
  {
   "cell_type": "code",
   "execution_count": 7,
   "metadata": {},
   "outputs": [],
   "source": [
    "z = zarr.open(str(data_dir / \"passages.eval.zarr\"))\n",
    "p_embs = z[emb_path][:]\n",
    "p_ids = z.id[:]"
   ]
  },
  {
   "cell_type": "markdown",
   "metadata": {},
   "source": [
    "# Retrieve"
   ]
  },
  {
   "cell_type": "code",
   "execution_count": 8,
   "metadata": {},
   "outputs": [],
   "source": [
    "from sklearn.metrics.pairwise import cosine_similarity\n",
    "from tqdm import tqdm\n",
    "\n",
    "\n",
    "def search(q_emb, p_embs, p_ids, topk=1000):\n",
    "    scores = cosine_similarity(p_embs, q_emb.reshape(1, -1))\n",
    "    indices = np.argsort(scores.squeeze())[::-1][:topk]\n",
    "    return p_ids[indices]"
   ]
  },
  {
   "cell_type": "code",
   "execution_count": 9,
   "metadata": {},
   "outputs": [
    {
     "name": "stderr",
     "output_type": "stream",
     "text": [
      "6980it [02:16, 51.07it/s]\n"
     ]
    }
   ],
   "source": [
    "with open(\"./runs/run.msmarco-passage.dev.small.bert.tsv\", \"w\", encoding=\"utf-8\") as f:\n",
    "    for q_id, q_emb in tqdm(zip(q_ids, q_embs)):\n",
    "        topk = search(q_emb, p_embs, p_ids)\n",
    "        for i, tk in enumerate(topk):\n",
    "            f.write(f\"{q_id}\\t{tk}\\t{i+1}\\n\")"
   ]
  },
  {
   "cell_type": "code",
   "execution_count": null,
   "metadata": {},
   "outputs": [],
   "source": []
  }
 ],
 "metadata": {
  "kernelspec": {
   "display_name": "Python 3",
   "language": "python",
   "name": "python3"
  },
  "language_info": {
   "codemirror_mode": {
    "name": "ipython",
    "version": 3
   },
   "file_extension": ".py",
   "mimetype": "text/x-python",
   "name": "python",
   "nbconvert_exporter": "python",
   "pygments_lexer": "ipython3",
   "version": "3.7.6"
  }
 },
 "nbformat": 4,
 "nbformat_minor": 2
}
