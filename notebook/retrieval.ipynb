{
 "cells": [
  {
   "cell_type": "code",
   "execution_count": 1,
   "metadata": {},
   "outputs": [],
   "source": [
    "import pandas as pd\n",
    "import zarr\n",
    "from pathlib import Path\n",
    "import math\n",
    "from tqdm import tqdm\n",
    "import numpy as np\n",
    "from scipy.sparse import csr_matrix, vstack\n",
    "import gc"
   ]
  },
  {
   "cell_type": "code",
   "execution_count": 13,
   "metadata": {},
   "outputs": [],
   "source": [
    "emb_path = \"result/bert_768_wta_2048_0.05_recover-task_8192_0.0005\"\n",
    "# emb_path = \"dense/bert\"\n",
    "data_dir = Path(\"E:\\Data\\msmarco-passages\")"
   ]
  },
  {
   "cell_type": "markdown",
   "metadata": {},
   "source": [
    "# Load Data"
   ]
  },
  {
   "cell_type": "markdown",
   "metadata": {},
   "source": [
    "## Query"
   ]
  },
  {
   "cell_type": "code",
   "execution_count": 14,
   "metadata": {},
   "outputs": [],
   "source": [
    "q_ids = pd.read_csv(\n",
    "    data_dir / \"runs/queries.dev.small.tsv\", sep=\"\\t\", names=[\"id\", \"query\"]\n",
    ").id.values"
   ]
  },
  {
   "cell_type": "code",
   "execution_count": 15,
   "metadata": {},
   "outputs": [],
   "source": [
    "z = zarr.open(str(data_dir / \"queries.eval.zarr\"))\n",
    "if 'result' in emb_path:\n",
    "    q_embs = csr_matrix(z[emb_path])\n",
    "else:\n",
    "    q_embs = z[emb_path][:]"
   ]
  },
  {
   "cell_type": "code",
   "execution_count": 5,
   "metadata": {},
   "outputs": [],
   "source": [
    "# z = zarr.open('../msmarco-passages/queries.eval.zarr')\n",
    "# q_ids_all = z.id[:]\n",
    "# sorter = np.argsort(q_ids_all)\n",
    "# indices = sorter[np.searchsorted(q_ids_all, q_ids, sorter=sorter)]\n",
    "# q_embs = z.dense[\"bert\"].oindex[indices.tolist(), :][:]"
   ]
  },
  {
   "cell_type": "markdown",
   "metadata": {},
   "source": [
    "## Passages"
   ]
  },
  {
   "cell_type": "code",
   "execution_count": 39,
   "metadata": {
    "scrolled": true
   },
   "outputs": [
    {
     "name": "stderr",
     "output_type": "stream",
     "text": [
      "100%|██████████████████████████████████████████████████████████████████████████████████| 47/47 [01:27<00:00,  1.87s/it]\n"
     ]
    }
   ],
   "source": [
    "CHUNK_SIZE = 8192 * 10\n",
    "\n",
    "z = zarr.open(str(data_dir / \"docs.eval.zarr\"))\n",
    "if \"result\" in emb_path:\n",
    "    z_emb = z[emb_path]\n",
    "    n_chunks = math.ceil(z_emb.shape[0] / CHUNK_SIZE)\n",
    "    p_embs = None\n",
    "\n",
    "    for i in tqdm(range(n_chunks)):\n",
    "        next_p_embs = csr_matrix(z[emb_path][i * CHUNK_SIZE : (i + 1) * CHUNK_SIZE])\n",
    "        if i == 0:\n",
    "            p_embs = next_p_embs.copy()\n",
    "        else:\n",
    "            p_embs = vstack([p_embs, next_p_embs])\n",
    "    # coo to csr\n",
    "    p_embs = p_embs.tocsr()\n",
    "else:\n",
    "    p_embs = z[emb_path][:]\n",
    "p_ids = z.id[:]\n",
    "p_text = z.text"
   ]
  },
  {
   "cell_type": "markdown",
   "metadata": {},
   "source": [
    "# Retrieve"
   ]
  },
  {
   "cell_type": "code",
   "execution_count": 22,
   "metadata": {},
   "outputs": [],
   "source": [
    "from sklearn.metrics.pairwise import cosine_similarity\n",
    "from tqdm import tqdm\n",
    "import sklearn.preprocessing as pp\n",
    "\n",
    "\n",
    "def sim_binary(q, docs):\n",
    "    return (q & docs).sum(axis=1)\n",
    "\n",
    "\n",
    "def sim_sparse(q, docs):\n",
    "    q = pp.normalize(q)\n",
    "    docs = pp.normalize(docs, axis=1)\n",
    "    return (q * docs.T).toarray()\n",
    "\n",
    "\n",
    "def sim_dense(q, docs):\n",
    "    return cosine_similarity(docs, q.reshape(1, -1))"
   ]
  },
  {
   "cell_type": "code",
   "execution_count": null,
   "metadata": {
    "scrolled": true
   },
   "outputs": [
    {
     "name": "stderr",
     "output_type": "stream",
     "text": [
      "417it [19:39,  2.31s/it]"
     ]
    }
   ],
   "source": [
    "emb_type, emb_name = emb_path.split(\"/\")\n",
    "sim_func = {\n",
    "    \"binary\": sim_binary,\n",
    "    \"sparse\": sim_sparse,\n",
    "    \"result\": sim_sparse,\n",
    "    \"dense\": sim_dense,\n",
    "}[emb_type]\n",
    "\n",
    "\n",
    "def search(q_emb, p_embs, p_ids, topk=1000):\n",
    "    scores = sim_func(p_embs, q_emb)\n",
    "    indices = np.argsort(scores.squeeze())[::-1][:topk]\n",
    "    return p_ids[indices]\n",
    "\n",
    "\n",
    "with open(\n",
    "    f\"./runs/run.msmarco-passage.dev.small.{emb_type}.{emb_name}.tsv\",\n",
    "    \"w\",\n",
    "    encoding=\"utf-8\",\n",
    ") as f:\n",
    "    for q_id, q_emb in tqdm(zip(q_ids, q_embs)):\n",
    "        topk = search(q_emb, p_embs, p_ids)\n",
    "        for i, tk in enumerate(topk):\n",
    "            f.write(f\"{q_id}\\t{tk}\\t{i+1}\\n\")"
   ]
  }
 ],
 "metadata": {
  "kernelspec": {
   "display_name": "Python 3",
   "language": "python",
   "name": "python3"
  },
  "language_info": {
   "codemirror_mode": {
    "name": "ipython",
    "version": 3
   },
   "file_extension": ".py",
   "mimetype": "text/x-python",
   "name": "python",
   "nbconvert_exporter": "python",
   "pygments_lexer": "ipython3",
   "version": "3.7.6"
  }
 },
 "nbformat": 4,
 "nbformat_minor": 2
}
