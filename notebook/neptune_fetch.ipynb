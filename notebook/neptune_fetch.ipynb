{
 "cells": [
  {
   "cell_type": "code",
   "execution_count": 40,
   "metadata": {},
   "outputs": [
    {
     "name": "stderr",
     "output_type": "stream",
     "text": [
      "WARNING: Instantiating Session without specifying a backend is deprecated and will be removed in future versions. For current behaviour use `neptune.init(...)` or `Session.with_default_backend(...)\n"
     ]
    }
   ],
   "source": [
    "import neptune\n",
    "from neptune.sessions import Session\n",
    "from pathlib import Path\n",
    "import json\n",
    "import zipfile\n",
    "from tqdm import tqdm\n",
    "\n",
    "PROJECT = \"kjang0517/msmarco\"\n",
    "\n",
    "session = Session()\n",
    "project = session.get_project(project_qualified_name=PROJECT)\n",
    "# neptune.init(project_qualified_name=\"kjang0517/msmarco\")\n",
    "# neptune.get_experiments()"
   ]
  },
  {
   "cell_type": "markdown",
   "metadata": {},
   "source": [
    "# 실험 기록 및 결과물 다운로드\n",
    "* `state == 'succeeded'`\n",
    "* `download_artifacts()`"
   ]
  },
  {
   "cell_type": "code",
   "execution_count": 54,
   "metadata": {},
   "outputs": [
    {
     "data": {
      "text/html": [
       "<div>\n",
       "<style scoped>\n",
       "    .dataframe tbody tr th:only-of-type {\n",
       "        vertical-align: middle;\n",
       "    }\n",
       "\n",
       "    .dataframe tbody tr th {\n",
       "        vertical-align: top;\n",
       "    }\n",
       "\n",
       "    .dataframe thead th {\n",
       "        text-align: right;\n",
       "    }\n",
       "</style>\n",
       "<table border=\"1\" class=\"dataframe\">\n",
       "  <thead>\n",
       "    <tr style=\"text-align: right;\">\n",
       "      <th></th>\n",
       "      <th>x</th>\n",
       "      <th>val_loss_recover</th>\n",
       "      <th>epoch</th>\n",
       "      <th>val_loss_task</th>\n",
       "      <th>train_loss_recover</th>\n",
       "      <th>train_loss</th>\n",
       "      <th>train_loss_task</th>\n",
       "      <th>val_loss</th>\n",
       "    </tr>\n",
       "  </thead>\n",
       "  <tbody>\n",
       "    <tr>\n",
       "      <th>0</th>\n",
       "      <td>0.0</td>\n",
       "      <td>NaN</td>\n",
       "      <td>0.0</td>\n",
       "      <td>NaN</td>\n",
       "      <td>0.027138</td>\n",
       "      <td>0.027138</td>\n",
       "      <td>0.0</td>\n",
       "      <td>NaN</td>\n",
       "    </tr>\n",
       "    <tr>\n",
       "      <th>1</th>\n",
       "      <td>50.0</td>\n",
       "      <td>NaN</td>\n",
       "      <td>0.0</td>\n",
       "      <td>NaN</td>\n",
       "      <td>0.024790</td>\n",
       "      <td>0.024790</td>\n",
       "      <td>0.0</td>\n",
       "      <td>NaN</td>\n",
       "    </tr>\n",
       "    <tr>\n",
       "      <th>2</th>\n",
       "      <td>100.0</td>\n",
       "      <td>NaN</td>\n",
       "      <td>0.0</td>\n",
       "      <td>NaN</td>\n",
       "      <td>0.021247</td>\n",
       "      <td>0.021247</td>\n",
       "      <td>0.0</td>\n",
       "      <td>NaN</td>\n",
       "    </tr>\n",
       "    <tr>\n",
       "      <th>3</th>\n",
       "      <td>150.0</td>\n",
       "      <td>NaN</td>\n",
       "      <td>0.0</td>\n",
       "      <td>NaN</td>\n",
       "      <td>0.018054</td>\n",
       "      <td>0.018054</td>\n",
       "      <td>0.0</td>\n",
       "      <td>NaN</td>\n",
       "    </tr>\n",
       "    <tr>\n",
       "      <th>4</th>\n",
       "      <td>200.0</td>\n",
       "      <td>NaN</td>\n",
       "      <td>0.0</td>\n",
       "      <td>NaN</td>\n",
       "      <td>0.015656</td>\n",
       "      <td>0.015656</td>\n",
       "      <td>0.0</td>\n",
       "      <td>NaN</td>\n",
       "    </tr>\n",
       "    <tr>\n",
       "      <th>...</th>\n",
       "      <td>...</td>\n",
       "      <td>...</td>\n",
       "      <td>...</td>\n",
       "      <td>...</td>\n",
       "      <td>...</td>\n",
       "      <td>...</td>\n",
       "      <td>...</td>\n",
       "      <td>...</td>\n",
       "    </tr>\n",
       "    <tr>\n",
       "      <th>595</th>\n",
       "      <td>26418.0</td>\n",
       "      <td>NaN</td>\n",
       "      <td>49.0</td>\n",
       "      <td>NaN</td>\n",
       "      <td>0.001109</td>\n",
       "      <td>0.001109</td>\n",
       "      <td>0.0</td>\n",
       "      <td>NaN</td>\n",
       "    </tr>\n",
       "    <tr>\n",
       "      <th>596</th>\n",
       "      <td>26468.0</td>\n",
       "      <td>NaN</td>\n",
       "      <td>49.0</td>\n",
       "      <td>NaN</td>\n",
       "      <td>0.001098</td>\n",
       "      <td>0.001098</td>\n",
       "      <td>0.0</td>\n",
       "      <td>NaN</td>\n",
       "    </tr>\n",
       "    <tr>\n",
       "      <th>597</th>\n",
       "      <td>26518.0</td>\n",
       "      <td>NaN</td>\n",
       "      <td>49.0</td>\n",
       "      <td>NaN</td>\n",
       "      <td>0.001105</td>\n",
       "      <td>0.001105</td>\n",
       "      <td>0.0</td>\n",
       "      <td>NaN</td>\n",
       "    </tr>\n",
       "    <tr>\n",
       "      <th>598</th>\n",
       "      <td>26568.0</td>\n",
       "      <td>NaN</td>\n",
       "      <td>49.0</td>\n",
       "      <td>NaN</td>\n",
       "      <td>0.001095</td>\n",
       "      <td>0.001095</td>\n",
       "      <td>0.0</td>\n",
       "      <td>NaN</td>\n",
       "    </tr>\n",
       "    <tr>\n",
       "      <th>599</th>\n",
       "      <td>26599.0</td>\n",
       "      <td>0.002557</td>\n",
       "      <td>49.0</td>\n",
       "      <td>0.0</td>\n",
       "      <td>NaN</td>\n",
       "      <td>NaN</td>\n",
       "      <td>NaN</td>\n",
       "      <td>0.002557</td>\n",
       "    </tr>\n",
       "  </tbody>\n",
       "</table>\n",
       "<p>600 rows × 8 columns</p>\n",
       "</div>"
      ],
      "text/plain": [
       "           x  val_loss_recover  epoch  val_loss_task  train_loss_recover  \\\n",
       "0        0.0               NaN    0.0            NaN            0.027138   \n",
       "1       50.0               NaN    0.0            NaN            0.024790   \n",
       "2      100.0               NaN    0.0            NaN            0.021247   \n",
       "3      150.0               NaN    0.0            NaN            0.018054   \n",
       "4      200.0               NaN    0.0            NaN            0.015656   \n",
       "..       ...               ...    ...            ...                 ...   \n",
       "595  26418.0               NaN   49.0            NaN            0.001109   \n",
       "596  26468.0               NaN   49.0            NaN            0.001098   \n",
       "597  26518.0               NaN   49.0            NaN            0.001105   \n",
       "598  26568.0               NaN   49.0            NaN            0.001095   \n",
       "599  26599.0          0.002557   49.0            0.0                 NaN   \n",
       "\n",
       "     train_loss  train_loss_task  val_loss  \n",
       "0      0.027138              0.0       NaN  \n",
       "1      0.024790              0.0       NaN  \n",
       "2      0.021247              0.0       NaN  \n",
       "3      0.018054              0.0       NaN  \n",
       "4      0.015656              0.0       NaN  \n",
       "..          ...              ...       ...  \n",
       "595    0.001109              0.0       NaN  \n",
       "596    0.001098              0.0       NaN  \n",
       "597    0.001105              0.0       NaN  \n",
       "598    0.001095              0.0       NaN  \n",
       "599         NaN              NaN  0.002557  \n",
       "\n",
       "[600 rows x 8 columns]"
      ]
     },
     "execution_count": 54,
     "metadata": {},
     "output_type": "execute_result"
    }
   ],
   "source": [
    "channel_df"
   ]
  },
  {
   "cell_type": "code",
   "execution_count": null,
   "metadata": {
    "scrolled": true
   },
   "outputs": [
    {
     "name": "stderr",
     "output_type": "stream",
     "text": [
      "\r",
      "  0%|                                                                                           | 0/25 [00:00<?, ?it/s]"
     ]
    },
    {
     "name": "stdout",
     "output_type": "stream",
     "text": [
      "Fetching MSMAR-103\n"
     ]
    },
    {
     "name": "stderr",
     "output_type": "stream",
     "text": [
      "\r",
      "  4%|███▎                                                                               | 1/25 [00:03<01:34,  3.93s/it]"
     ]
    },
    {
     "name": "stdout",
     "output_type": "stream",
     "text": [
      "Fetching MSMAR-106\n"
     ]
    },
    {
     "name": "stderr",
     "output_type": "stream",
     "text": [
      "\r",
      "  8%|██████▋                                                                            | 2/25 [00:07<01:29,  3.90s/it]"
     ]
    },
    {
     "name": "stdout",
     "output_type": "stream",
     "text": [
      "Fetching MSMAR-113\n"
     ]
    },
    {
     "name": "stderr",
     "output_type": "stream",
     "text": [
      "\r",
      " 12%|█████████▉                                                                         | 3/25 [00:11<01:24,  3.83s/it]"
     ]
    },
    {
     "name": "stdout",
     "output_type": "stream",
     "text": [
      "Fetching MSMAR-116\n"
     ]
    },
    {
     "name": "stderr",
     "output_type": "stream",
     "text": [
      "\r",
      " 16%|█████████████▎                                                                     | 4/25 [03:35<22:22, 63.93s/it]"
     ]
    },
    {
     "name": "stdout",
     "output_type": "stream",
     "text": [
      "Fetching MSMAR-137\n"
     ]
    },
    {
     "name": "stderr",
     "output_type": "stream",
     "text": [
      "\r",
      " 20%|████████████████▌                                                                  | 5/25 [03:53<16:44, 50.21s/it]"
     ]
    },
    {
     "name": "stdout",
     "output_type": "stream",
     "text": [
      "Fetching MSMAR-138\n"
     ]
    },
    {
     "name": "stderr",
     "output_type": "stream",
     "text": [
      "\r",
      " 24%|███████████████████▉                                                               | 6/25 [04:46<16:10, 51.10s/it]"
     ]
    },
    {
     "name": "stdout",
     "output_type": "stream",
     "text": [
      "Fetching MSMAR-139\n"
     ]
    },
    {
     "name": "stderr",
     "output_type": "stream",
     "text": [
      "\r",
      " 28%|██████████████████████▉                                                           | 7/25 [08:25<30:23, 101.33s/it]"
     ]
    },
    {
     "name": "stdout",
     "output_type": "stream",
     "text": [
      "Fetching MSMAR-141\n"
     ]
    },
    {
     "name": "stderr",
     "output_type": "stream",
     "text": [
      "\r",
      " 32%|██████████████████████████▌                                                        | 8/25 [09:06<23:34, 83.22s/it]"
     ]
    },
    {
     "name": "stdout",
     "output_type": "stream",
     "text": [
      "Fetching MSMAR-142\n"
     ]
    },
    {
     "name": "stderr",
     "output_type": "stream",
     "text": [
      "\r",
      " 36%|█████████████████████████████▉                                                     | 9/25 [09:22<16:49, 63.08s/it]"
     ]
    },
    {
     "name": "stdout",
     "output_type": "stream",
     "text": [
      "Fetching MSMAR-166\n"
     ]
    },
    {
     "name": "stderr",
     "output_type": "stream",
     "text": [
      "\r",
      " 40%|████████████████████████████████▊                                                 | 10/25 [09:29<11:34, 46.30s/it]"
     ]
    },
    {
     "name": "stdout",
     "output_type": "stream",
     "text": [
      "Fetching MSMAR-167\n"
     ]
    },
    {
     "name": "stderr",
     "output_type": "stream",
     "text": [
      "\r",
      " 44%|████████████████████████████████████                                              | 11/25 [09:42<08:28, 36.35s/it]"
     ]
    },
    {
     "name": "stdout",
     "output_type": "stream",
     "text": [
      "Fetching MSMAR-170\n"
     ]
    },
    {
     "name": "stderr",
     "output_type": "stream",
     "text": [
      "\r",
      " 48%|███████████████████████████████████████▎                                          | 12/25 [12:10<15:07, 69.79s/it]"
     ]
    },
    {
     "name": "stdout",
     "output_type": "stream",
     "text": [
      "Fetching MSMAR-176\n"
     ]
    },
    {
     "name": "stderr",
     "output_type": "stream",
     "text": [
      "\r",
      " 52%|██████████████████████████████████████████▋                                       | 13/25 [12:26<10:42, 53.58s/it]"
     ]
    },
    {
     "name": "stdout",
     "output_type": "stream",
     "text": [
      "Fetching MSMAR-177\n"
     ]
    }
   ],
   "source": [
    "base_dir = Path(\"experiments\")\n",
    "if not base_dir.exists():\n",
    "    base_dir.mkdir(parents=True)\n",
    "\n",
    "target_exps = [exp for exp in project.get_experiments() if exp.state == \"succeeded\"]\n",
    "for exp in tqdm(target_exps):\n",
    "    destination_dir = base_dir / exp.id\n",
    "    # check already exist\n",
    "    if destination_dir.exists():\n",
    "        print(\"Skipping\", exp.id)\n",
    "        continue\n",
    "    else:\n",
    "        destination_dir.mkdir(parents=True)\n",
    "\n",
    "    # start fetching\n",
    "    print(\"Fetching\", exp.id)\n",
    "\n",
    "    # parameters\n",
    "    params = exp.get_parameters()\n",
    "    with (destination_dir / \"parameters.json\").open(\"w\", encoding=\"utf-8\") as f:\n",
    "        json.dump(params, f, indent=4)\n",
    "\n",
    "    # channels\n",
    "    channel_names = list(exp.get_channels().keys())\n",
    "    channel_df = exp.get_numeric_channels_values(*channel_names).fillna(0.0)\n",
    "    channel_df.to_csv(destination_dir / \"channels.csv\", index=False)\n",
    "\n",
    "    # artifacts\n",
    "    exp.download_artifacts(destination_dir=str(destination_dir))"
   ]
  },
  {
   "cell_type": "code",
   "execution_count": null,
   "metadata": {},
   "outputs": [],
   "source": [
    "zip_files = list(base_dir.glob(\"**/*.zip\"))\n",
    "for zpath in zip_files:\n",
    "    print(\"Processing\", zpath)\n",
    "    with zipfile.ZipFile(zpath) as zf:\n",
    "        zf.extractall(path=zpath.parent)\n",
    "    zpath.unlink()"
   ]
  }
 ],
 "metadata": {
  "kernelspec": {
   "display_name": "Python 3",
   "language": "python",
   "name": "python3"
  },
  "language_info": {
   "codemirror_mode": {
    "name": "ipython",
    "version": 3
   },
   "file_extension": ".py",
   "mimetype": "text/x-python",
   "name": "python",
   "nbconvert_exporter": "python",
   "pygments_lexer": "ipython3",
   "version": "3.7.6"
  }
 },
 "nbformat": 4,
 "nbformat_minor": 4
}
