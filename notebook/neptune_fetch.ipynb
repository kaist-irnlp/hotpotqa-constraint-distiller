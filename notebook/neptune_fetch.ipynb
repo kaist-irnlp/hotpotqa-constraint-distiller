{
 "cells": [
  {
   "cell_type": "code",
   "execution_count": 40,
   "metadata": {},
   "outputs": [
    {
     "name": "stderr",
     "output_type": "stream",
     "text": [
      "WARNING: Instantiating Session without specifying a backend is deprecated and will be removed in future versions. For current behaviour use `neptune.init(...)` or `Session.with_default_backend(...)\n"
     ]
    }
   ],
   "source": [
    "import neptune\n",
    "from neptune.sessions import Session\n",
    "from pathlib import Path\n",
    "import json\n",
    "import zipfile\n",
    "from tqdm import tqdm\n",
    "\n",
    "PROJECT = \"kjang0517/msmarco\"\n",
    "\n",
    "session = Session()\n",
    "project = session.get_project(project_qualified_name=PROJECT)\n",
    "# neptune.init(project_qualified_name=\"kjang0517/msmarco\")\n",
    "# neptune.get_experiments()"
   ]
  },
  {
   "cell_type": "markdown",
   "metadata": {},
   "source": [
    "# 실험 기록 및 결과물 다운로드\n",
    "* `state == 'succeeded'`\n",
    "* `download_artifacts()`"
   ]
  },
  {
   "cell_type": "code",
   "execution_count": 47,
   "metadata": {
    "scrolled": true
   },
   "outputs": [
    {
     "name": "stderr",
     "output_type": "stream",
     "text": [
      "\r",
      "  0%|                                                                                           | 0/25 [00:00<?, ?it/s]"
     ]
    },
    {
     "name": "stdout",
     "output_type": "stream",
     "text": [
      "Fetching MSMAR-103\n"
     ]
    },
    {
     "name": "stderr",
     "output_type": "stream",
     "text": [
      "\r",
      "  4%|███▎                                                                               | 1/25 [00:03<01:30,  3.76s/it]"
     ]
    },
    {
     "name": "stdout",
     "output_type": "stream",
     "text": [
      "Fetching MSMAR-106\n"
     ]
    },
    {
     "name": "stderr",
     "output_type": "stream",
     "text": [
      "\r",
      "  8%|██████▋                                                                            | 2/25 [00:07<01:25,  3.74s/it]"
     ]
    },
    {
     "name": "stdout",
     "output_type": "stream",
     "text": [
      "Fetching MSMAR-113\n"
     ]
    },
    {
     "name": "stderr",
     "output_type": "stream",
     "text": [
      "\r",
      " 12%|█████████▉                                                                         | 3/25 [00:11<01:21,  3.69s/it]"
     ]
    },
    {
     "name": "stdout",
     "output_type": "stream",
     "text": [
      "Fetching MSMAR-116\n"
     ]
    },
    {
     "name": "stderr",
     "output_type": "stream",
     "text": [
      "\r",
      " 16%|█████████████▎                                                                     | 4/25 [03:01<18:51, 53.86s/it]"
     ]
    },
    {
     "name": "stdout",
     "output_type": "stream",
     "text": [
      "Fetching MSMAR-137\n"
     ]
    },
    {
     "name": "stderr",
     "output_type": "stream",
     "text": [
      "\r",
      " 20%|████████████████▌                                                                  | 5/25 [03:17<14:04, 42.23s/it]"
     ]
    },
    {
     "name": "stdout",
     "output_type": "stream",
     "text": [
      "Fetching MSMAR-138\n"
     ]
    },
    {
     "name": "stderr",
     "output_type": "stream",
     "text": [
      "\r",
      " 24%|███████████████████▉                                                               | 6/25 [04:02<13:39, 43.16s/it]"
     ]
    },
    {
     "name": "stdout",
     "output_type": "stream",
     "text": [
      "Fetching MSMAR-139\n"
     ]
    },
    {
     "name": "stderr",
     "output_type": "stream",
     "text": [
      "\r",
      " 28%|███████████████████████▏                                                           | 7/25 [07:32<27:58, 93.23s/it]"
     ]
    },
    {
     "name": "stdout",
     "output_type": "stream",
     "text": [
      "Fetching MSMAR-141\n"
     ]
    },
    {
     "name": "stderr",
     "output_type": "stream",
     "text": [
      "\r",
      " 32%|██████████████████████████▌                                                        | 8/25 [08:23<22:49, 80.57s/it]"
     ]
    },
    {
     "name": "stdout",
     "output_type": "stream",
     "text": [
      "Fetching MSMAR-142\n"
     ]
    },
    {
     "name": "stderr",
     "output_type": "stream",
     "text": [
      "\r",
      " 36%|█████████████████████████████▉                                                     | 9/25 [08:41<16:28, 61.76s/it]"
     ]
    },
    {
     "name": "stdout",
     "output_type": "stream",
     "text": [
      "Fetching MSMAR-166\n"
     ]
    },
    {
     "name": "stderr",
     "output_type": "stream",
     "text": [
      "\r",
      " 40%|████████████████████████████████▊                                                 | 10/25 [08:48<11:21, 45.44s/it]"
     ]
    },
    {
     "name": "stdout",
     "output_type": "stream",
     "text": [
      "Fetching MSMAR-167\n"
     ]
    },
    {
     "name": "stderr",
     "output_type": "stream",
     "text": [
      "\r",
      " 44%|████████████████████████████████████                                              | 11/25 [08:59<08:09, 34.97s/it]"
     ]
    },
    {
     "name": "stdout",
     "output_type": "stream",
     "text": [
      "Fetching MSMAR-170\n"
     ]
    },
    {
     "name": "stderr",
     "output_type": "stream",
     "text": [
      "\r",
      " 48%|███████████████████████████████████████▎                                          | 12/25 [11:43<15:59, 73.84s/it]"
     ]
    },
    {
     "name": "stdout",
     "output_type": "stream",
     "text": [
      "Fetching MSMAR-176\n"
     ]
    },
    {
     "name": "stderr",
     "output_type": "stream",
     "text": [
      "\r",
      " 52%|██████████████████████████████████████████▋                                       | 13/25 [11:59<11:18, 56.54s/it]"
     ]
    },
    {
     "name": "stdout",
     "output_type": "stream",
     "text": [
      "Fetching MSMAR-177\n"
     ]
    },
    {
     "name": "stderr",
     "output_type": "stream",
     "text": [
      "\r",
      " 56%|█████████████████████████████████████████████▉                                    | 14/25 [14:45<16:20, 89.10s/it]"
     ]
    },
    {
     "name": "stdout",
     "output_type": "stream",
     "text": [
      "Fetching MSMAR-178\n"
     ]
    },
    {
     "name": "stderr",
     "output_type": "stream",
     "text": [
      "\r",
      " 60%|█████████████████████████████████████████████████▏                                | 15/25 [15:02<11:16, 67.68s/it]"
     ]
    },
    {
     "name": "stdout",
     "output_type": "stream",
     "text": [
      "Fetching MSMAR-179\n"
     ]
    },
    {
     "name": "stderr",
     "output_type": "stream",
     "text": [
      "\r",
      " 64%|████████████████████████████████████████████████████▍                             | 16/25 [15:20<07:53, 52.61s/it]"
     ]
    },
    {
     "name": "stdout",
     "output_type": "stream",
     "text": [
      "Fetching MSMAR-180\n"
     ]
    },
    {
     "name": "stderr",
     "output_type": "stream",
     "text": [
      "\r",
      " 68%|███████████████████████████████████████████████████████▊                          | 17/25 [18:02<11:24, 85.58s/it]"
     ]
    },
    {
     "name": "stdout",
     "output_type": "stream",
     "text": [
      "Fetching MSMAR-181\n"
     ]
    },
    {
     "name": "stderr",
     "output_type": "stream",
     "text": [
      "\r",
      " 72%|███████████████████████████████████████████████████████████                       | 18/25 [18:10<07:15, 62.22s/it]"
     ]
    },
    {
     "name": "stdout",
     "output_type": "stream",
     "text": [
      "Fetching MSMAR-182\n"
     ]
    },
    {
     "name": "stderr",
     "output_type": "stream",
     "text": [
      "\r",
      " 76%|██████████████████████████████████████████████████████████████▎                   | 19/25 [18:28<04:54, 49.09s/it]"
     ]
    },
    {
     "name": "stdout",
     "output_type": "stream",
     "text": [
      "Fetching MSMAR-183\n"
     ]
    },
    {
     "name": "stderr",
     "output_type": "stream",
     "text": [
      "\r",
      " 80%|█████████████████████████████████████████████████████████████████▌                | 20/25 [18:39<03:07, 37.59s/it]"
     ]
    },
    {
     "name": "stdout",
     "output_type": "stream",
     "text": [
      "Fetching MSMAR-184\n"
     ]
    },
    {
     "name": "stderr",
     "output_type": "stream",
     "text": [
      "\r",
      " 84%|████████████████████████████████████████████████████████████████████▉             | 21/25 [18:49<01:57, 29.29s/it]"
     ]
    },
    {
     "name": "stdout",
     "output_type": "stream",
     "text": [
      "Fetching MSMAR-186\n"
     ]
    },
    {
     "name": "stderr",
     "output_type": "stream",
     "text": [
      "\r",
      " 88%|████████████████████████████████████████████████████████████████████████▏         | 22/25 [19:08<01:18, 26.10s/it]"
     ]
    },
    {
     "name": "stdout",
     "output_type": "stream",
     "text": [
      "Fetching MSMAR-187\n"
     ]
    },
    {
     "name": "stderr",
     "output_type": "stream",
     "text": [
      "\r",
      " 92%|███████████████████████████████████████████████████████████████████████████▍      | 23/25 [19:56<01:05, 32.67s/it]"
     ]
    },
    {
     "name": "stdout",
     "output_type": "stream",
     "text": [
      "Fetching MSMAR-188\n"
     ]
    },
    {
     "name": "stderr",
     "output_type": "stream",
     "text": [
      "\r",
      " 96%|██████████████████████████████████████████████████████████████████████████████▋   | 24/25 [20:14<00:28, 28.39s/it]"
     ]
    },
    {
     "name": "stdout",
     "output_type": "stream",
     "text": [
      "Fetching MSMAR-191\n"
     ]
    },
    {
     "name": "stderr",
     "output_type": "stream",
     "text": [
      "100%|██████████████████████████████████████████████████████████████████████████████████| 25/25 [20:23<00:00, 48.95s/it]\n"
     ]
    }
   ],
   "source": [
    "base_dir = Path(\"experiments\")\n",
    "if not base_dir.exists():\n",
    "    base_dir.mkdir(parents=True)\n",
    "\n",
    "target_exps = [exp for exp in project.get_experiments() if exp.state == \"succeeded\"]\n",
    "for exp in tqdm(target_exps):\n",
    "    destination_dir = base_dir / exp.id\n",
    "    # check already exist\n",
    "    if destination_dir.exists():\n",
    "        print(\"Skipping\", exp.id)\n",
    "        continue\n",
    "    else:\n",
    "        destination_dir.mkdir(parents=True)\n",
    "        \n",
    "    # start fetching\n",
    "    print(\"Fetching\", exp.id)\n",
    "        \n",
    "    # parameters\n",
    "    params = exp.get_parameters()\n",
    "    with (destination_dir / \"parameters.json\").open(\"w\", encoding=\"utf-8\") as f:\n",
    "        json.dump(params, f, indent=4)\n",
    "\n",
    "    # channels\n",
    "    channel_names = list(exp.get_channels().keys())\n",
    "    channel_df = exp.get_numeric_channels_values(*channel_names)\n",
    "    channel_df.to_csv(destination_dir / \"channels.csv\")\n",
    "\n",
    "    # artifacts\n",
    "    exp.download_artifacts(destination_dir=str(destination_dir))"
   ]
  },
  {
   "cell_type": "code",
   "execution_count": 53,
   "metadata": {},
   "outputs": [
    {
     "name": "stdout",
     "output_type": "stream",
     "text": [
      "Processing experiments\\MSMAR-113\\output.zip\n",
      "Processing experiments\\MSMAR-116\\output.zip\n",
      "Processing experiments\\MSMAR-137\\output.zip\n",
      "Processing experiments\\MSMAR-138\\output.zip\n",
      "Processing experiments\\MSMAR-139\\output.zip\n",
      "Processing experiments\\MSMAR-141\\output.zip\n",
      "Processing experiments\\MSMAR-142\\output.zip\n",
      "Processing experiments\\MSMAR-166\\output.zip\n",
      "Processing experiments\\MSMAR-167\\output.zip\n",
      "Processing experiments\\MSMAR-170\\output.zip\n",
      "Processing experiments\\MSMAR-176\\output.zip\n",
      "Processing experiments\\MSMAR-177\\output.zip\n",
      "Processing experiments\\MSMAR-178\\output.zip\n",
      "Processing experiments\\MSMAR-179\\output.zip\n",
      "Processing experiments\\MSMAR-180\\output.zip\n",
      "Processing experiments\\MSMAR-181\\output.zip\n",
      "Processing experiments\\MSMAR-182\\output.zip\n",
      "Processing experiments\\MSMAR-183\\output.zip\n",
      "Processing experiments\\MSMAR-184\\output.zip\n",
      "Processing experiments\\MSMAR-186\\output.zip\n",
      "Processing experiments\\MSMAR-187\\output.zip\n",
      "Processing experiments\\MSMAR-188\\output.zip\n",
      "Processing experiments\\MSMAR-191\\output.zip\n"
     ]
    }
   ],
   "source": [
    "zip_files = list(base_dir.glob(\"**/*.zip\"))\n",
    "for zpath in zip_files:\n",
    "    print(\"Processing\", zpath)\n",
    "    with zipfile.ZipFile(zpath) as zf:\n",
    "        zf.extractall(path=zpath.parent)\n",
    "    zpath.unlink()"
   ]
  }
 ],
 "metadata": {
  "kernelspec": {
   "display_name": "Python 3",
   "language": "python",
   "name": "python3"
  },
  "language_info": {
   "codemirror_mode": {
    "name": "ipython",
    "version": 3
   },
   "file_extension": ".py",
   "mimetype": "text/x-python",
   "name": "python",
   "nbconvert_exporter": "python",
   "pygments_lexer": "ipython3",
   "version": "3.7.6"
  }
 },
 "nbformat": 4,
 "nbformat_minor": 4
}
