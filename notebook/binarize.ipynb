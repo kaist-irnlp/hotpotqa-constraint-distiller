{
 "cells": [
  {
   "cell_type": "code",
   "execution_count": 1,
   "metadata": {},
   "outputs": [],
   "source": [
    "from pathlib import Path\n",
    "from tqdm import tqdm\n",
    "import numpy as np\n",
    "import zarr\n",
    "from scipy.sparse import csr_matrix, save_npz, load_npz"
   ]
  },
  {
   "cell_type": "code",
   "execution_count": 2,
   "metadata": {},
   "outputs": [],
   "source": [
    "data_dir = Path('D:/data/output')"
   ]
  },
  {
   "cell_type": "markdown",
   "metadata": {},
   "source": [
    "# Save"
   ]
  },
  {
   "cell_type": "code",
   "execution_count": 4,
   "metadata": {},
   "outputs": [
    {
     "name": "stdout",
     "output_type": "stream",
     "text": [
      "docs.eval.zarr \t binary/fse_128\n",
      "docs.eval.zarr \t binary/fse_256\n",
      "queries.eval.zarr \t binary/bert_128\n",
      "queries.eval.zarr \t binary/bert_256\n",
      "queries.eval.zarr \t binary/fse_128\n",
      "queries.eval.zarr \t binary/fse_256\n"
     ]
    }
   ],
   "source": [
    "for f in data_dir.glob(\"*.npz\"):\n",
    "    fname_parts = f.name.split(\".\")\n",
    "    dset_name, src_emb, nbits = (\n",
    "        \".\".join(fname_parts[:3]),\n",
    "        fname_parts[3],\n",
    "        fname_parts[5],\n",
    "    )\n",
    "    emb_path = f\"binary/{src_emb}_{nbits}\"\n",
    "    print(dset_name, '\\t', emb_path)\n",
    "\n",
    "    # save\n",
    "    emb = load_npz(f)\n",
    "    dset_path = Path(\"D:/data/msmarco-passages\") / dset_name\n",
    "    dset = zarr.open(str(dset_path))\n",
    "    dset.array(emb_path, data=emb.todense(), chunks=(64, None), overwrite=True)"
   ]
  },
  {
   "cell_type": "markdown",
   "metadata": {},
   "source": [
    "# Convert"
   ]
  },
  {
   "cell_type": "code",
   "execution_count": 3,
   "metadata": {},
   "outputs": [],
   "source": [
    "def parse_line(line):\n",
    "    uid, *ints = line.split()\n",
    "    binary_str = \"\"\n",
    "    for i in ints:\n",
    "        binary_str += f\"{int(i):064b}\"[::-1]\n",
    "    # reverse the order so that the smaller bit comes first\n",
    "    binary_array = np.array([int(i) for i in binary_str], dtype=np.bool)\n",
    "    # return as boolean array\n",
    "    return uid, binary_array"
   ]
  },
  {
   "cell_type": "code",
   "execution_count": 4,
   "metadata": {},
   "outputs": [
    {
     "name": "stderr",
     "output_type": "stream",
     "text": [
      "2848it [00:00, 28473.10it/s]"
     ]
    },
    {
     "name": "stdout",
     "output_type": "stream",
     "text": [
      "Processing ..\\output\\docs.eval.zarr.fse.binary.128.txt\n",
      "3823977 rows, 128 bits\n"
     ]
    },
    {
     "name": "stderr",
     "output_type": "stream",
     "text": [
      "3823978it [02:09, 29481.36it/s]\n"
     ]
    },
    {
     "name": "stdout",
     "output_type": "stream",
     "text": [
      "Processing ..\\output\\docs.eval.zarr.fse.binary.256.txt\n"
     ]
    },
    {
     "name": "stderr",
     "output_type": "stream",
     "text": [
      "3235it [00:00, 16129.87it/s]"
     ]
    },
    {
     "name": "stdout",
     "output_type": "stream",
     "text": [
      "3823977 rows, 256 bits\n"
     ]
    },
    {
     "name": "stderr",
     "output_type": "stream",
     "text": [
      "3823978it [03:58, 16017.53it/s]\n",
      "2683it [00:00, 26823.95it/s]"
     ]
    },
    {
     "name": "stdout",
     "output_type": "stream",
     "text": [
      "Processing ..\\output\\queries.eval.zarr.bert.binary.128.txt\n",
      "6980 rows, 128 bits\n"
     ]
    },
    {
     "name": "stderr",
     "output_type": "stream",
     "text": [
      "6981it [00:00, 28029.72it/s]\n",
      "1630it [00:00, 16296.36it/s]"
     ]
    },
    {
     "name": "stdout",
     "output_type": "stream",
     "text": [
      "Processing ..\\output\\queries.eval.zarr.bert.binary.256.txt\n",
      "6980 rows, 256 bits\n"
     ]
    },
    {
     "name": "stderr",
     "output_type": "stream",
     "text": [
      "6981it [00:00, 15772.49it/s]\n",
      "3039it [00:00, 30230.02it/s]"
     ]
    },
    {
     "name": "stdout",
     "output_type": "stream",
     "text": [
      "Processing ..\\output\\queries.eval.zarr.fse.binary.128.txt\n",
      "6980 rows, 128 bits\n"
     ]
    },
    {
     "name": "stderr",
     "output_type": "stream",
     "text": [
      "6981it [00:00, 30018.16it/s]\n",
      "1633it [00:00, 16326.32it/s]"
     ]
    },
    {
     "name": "stdout",
     "output_type": "stream",
     "text": [
      "Processing ..\\output\\queries.eval.zarr.fse.binary.256.txt\n",
      "6980 rows, 256 bits\n"
     ]
    },
    {
     "name": "stderr",
     "output_type": "stream",
     "text": [
      "6981it [00:00, 16156.06it/s]\n"
     ]
    }
   ],
   "source": [
    "for fpath in data_dir.glob(\"*.binary.*.txt\"):\n",
    "    print(f\"Processing {fpath}\")\n",
    "    rows = []\n",
    "    with fpath.open(\"r\", encoding='utf-8') as f:\n",
    "        for i, line in enumerate(tqdm(f)):\n",
    "            if i == 0:\n",
    "                nrows, nbits = line.split()\n",
    "                print(f\"{nrows} rows, {nbits} bits\")\n",
    "                continue\n",
    "            else:\n",
    "                _, arr = parse_line(line)\n",
    "                rows.append(arr)\n",
    "\n",
    "    # save\n",
    "    mat = csr_matrix(rows, dtype=np.bool)\n",
    "    out_path = fpath.with_suffix('.npz')\n",
    "    save_npz(out_path, mat)"
   ]
  },
  {
   "cell_type": "code",
   "execution_count": null,
   "metadata": {},
   "outputs": [],
   "source": []
  }
 ],
 "metadata": {
  "kernelspec": {
   "display_name": "Python 3",
   "language": "python",
   "name": "python3"
  },
  "language_info": {
   "codemirror_mode": {
    "name": "ipython",
    "version": 3
   },
   "file_extension": ".py",
   "mimetype": "text/x-python",
   "name": "python",
   "nbconvert_exporter": "python",
   "pygments_lexer": "ipython3",
   "version": "3.7.6"
  }
 },
 "nbformat": 4,
 "nbformat_minor": 4
}
